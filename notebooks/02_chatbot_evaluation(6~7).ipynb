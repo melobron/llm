{
 "cells": [
  {
   "cell_type": "markdown",
   "metadata": {},
   "source": [
    "# Chatbot Evaluation"
   ]
  },
  {
   "cell_type": "markdown",
   "metadata": {},
   "source": [
    "## Import Packages"
   ]
  },
  {
   "cell_type": "code",
   "execution_count": 23,
   "metadata": {},
   "outputs": [],
   "source": [
    "from langchain.prompts import ChatPromptTemplate\n",
    "from langchain.memory.chat_message_histories import ChatMessageHistory\n",
    "\n",
    "from langchain_openai import ChatOpenAI\n",
    "from langchain_core.runnables.history import RunnableWithMessageHistory\n",
    "from langchain_core.chat_history import BaseChatMessageHistory"
   ]
  },
  {
   "cell_type": "code",
   "execution_count": null,
   "metadata": {},
   "outputs": [],
   "source": []
  },
  {
   "cell_type": "markdown",
   "metadata": {},
   "source": [
    "## 6. Chatbot 만들기"
   ]
  },
  {
   "cell_type": "markdown",
   "metadata": {},
   "source": [
    "### 기본 Chatbot\n"
   ]
  },
  {
   "cell_type": "code",
   "execution_count": 2,
   "metadata": {},
   "outputs": [
    {
     "name": "stdout",
     "output_type": "stream",
     "text": [
      "죄송해요, 저는 실시간으로 정보를 제공할 수 없어요. 하지만 날씨 앱이나 인터넷을 통해 확인하시면 될 거에요. 혹시 다른 도움이 필요하신가요?\n"
     ]
    }
   ],
   "source": [
    "prompt = ChatPromptTemplate.from_messages([\n",
    "    (\"system\", \"너는 친절한 AI 비서야.\"),\n",
    "    (\"human\", \"{question}\"),\n",
    "])\n",
    "\n",
    "llm = ChatOpenAI(\n",
    "    model=\"gpt-3.5-turbo\",\n",
    "    temperature=0.7\n",
    ")\n",
    "\n",
    "chain = prompt | llm\n",
    "\n",
    "response = chain.invoke({\"question\": \"오늘 날씨 어때?\"})\n",
    "print(response.content)"
   ]
  },
  {
   "cell_type": "markdown",
   "metadata": {},
   "source": [
    "### 메모리 기반 Chatbot"
   ]
  },
  {
   "cell_type": "markdown",
   "metadata": {},
   "source": [
    "- ChatMessageHistory: 메세지들을 순차적으로 저장하는 클래스"
   ]
  },
  {
   "cell_type": "code",
   "execution_count": 19,
   "metadata": {},
   "outputs": [],
   "source": [
    "# 세션별 메세지 히스토리 저장소\n",
    "session_history = {}\n",
    "\n",
    "def get_message_history(session_id: str) -> BaseChatMessageHistory:\n",
    "    if session_id not in session_history:\n",
    "        session_history[session_id] = ChatMessageHistory()\n",
    "    return session_history[session_id]"
   ]
  },
  {
   "cell_type": "code",
   "execution_count": 21,
   "metadata": {},
   "outputs": [],
   "source": [
    "prompt = ChatPromptTemplate.from_messages([\n",
    "    (\"system\", \"친절한 AI 챗봇입니다.\"),\n",
    "    (\"placeholder\", \"{chat_history}\"),\n",
    "    (\"human\", \"{question}\")\n",
    "])\n",
    "\n",
    "chain = prompt | llm\n",
    "\n",
    "chatbot = RunnableWithMessageHistory(\n",
    "    chain,\n",
    "    get_message_history, # 세선 별 메모리 관리자\n",
    "    input_messages_key=\"question\",\n",
    "    history_messages_key=\"chat_history\"\n",
    ")"
   ]
  },
  {
   "cell_type": "markdown",
   "metadata": {},
   "source": [
    "response 내부로직\n",
    "1. 세션의 메세지 히스토리 가져오기\n",
    "   - history = get_message_history(\"user_123\")\n",
    "2. LLM에게 전달될 최종 프롬프트 완성\n",
    "   - formatted_prompt = {\"chat_history: history.messages (이전 대화 내용), \"question\": question (현재 질문)}\n",
    "3. LLM 응답 생성\n",
    "   - response = llm.invoke(formatted_prompt)\n",
    "4. 새로운 대화 내용 저장\n",
    "   - history.add_user_message(question)\n",
    "   - history.add_ai_message(reponse.content)"
   ]
  },
  {
   "cell_type": "code",
   "execution_count": 22,
   "metadata": {},
   "outputs": [
    {
     "name": "stdout",
     "output_type": "stream",
     "text": [
      "안녕하세요! 만나서 반가워요. 29살이라면 젊은 나이에요! 무엇을 도와드릴까요? 😊\n",
      "죄송해요, 제가 사용자의 나이를 알 수 있는 방법은 없어요. 사용자분이 29살이라고 말씀해주셨으니, 그대로 받아들이겠어요. 혹시 다른 궁금한 점이 있으시면 언제든지 물어보세요! 😊\n"
     ]
    }
   ],
   "source": [
    "# 챗봇 사용\n",
    "response = chatbot.invoke(\n",
    "    {\"question\": \"안녕하세요! 저는 29살입니다.\"}, \n",
    "    {\"session_id\": \"user_123\"}\n",
    ")\n",
    "print(response.content)\n",
    "\n",
    "# 다음 대화 - 이전 대화 기록 유지\n",
    "response = chatbot.invoke(\n",
    "    {\"question\": \"저는 몇살일까요?\"}, \n",
    "    {\"session_id\": \"user_123\"}\n",
    ")\n",
    "print(response.content)"
   ]
  },
  {
   "cell_type": "markdown",
   "metadata": {},
   "source": []
  },
  {
   "cell_type": "code",
   "execution_count": null,
   "metadata": {},
   "outputs": [],
   "source": []
  },
  {
   "cell_type": "code",
   "execution_count": null,
   "metadata": {},
   "outputs": [],
   "source": []
  },
  {
   "cell_type": "code",
   "execution_count": null,
   "metadata": {},
   "outputs": [],
   "source": []
  },
  {
   "cell_type": "code",
   "execution_count": null,
   "metadata": {},
   "outputs": [],
   "source": []
  }
 ],
 "metadata": {
  "kernelspec": {
   "display_name": ".venv",
   "language": "python",
   "name": "python3"
  },
  "language_info": {
   "codemirror_mode": {
    "name": "ipython",
    "version": 3
   },
   "file_extension": ".py",
   "mimetype": "text/x-python",
   "name": "python",
   "nbconvert_exporter": "python",
   "pygments_lexer": "ipython3",
   "version": "3.10.10"
  }
 },
 "nbformat": 4,
 "nbformat_minor": 2
}
